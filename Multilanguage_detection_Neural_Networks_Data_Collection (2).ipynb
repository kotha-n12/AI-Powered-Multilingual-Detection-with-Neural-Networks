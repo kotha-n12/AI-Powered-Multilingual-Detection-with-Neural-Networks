{
  "cells": [
    {
      "cell_type": "code",
      "execution_count": null,
      "metadata": {
        "id": "U-9BLuDu5XKb"
      },
      "outputs": [],
      "source": [
        "#!pip install torch\n",
        "#!pip install transformers==3.5\n",
        "#pip list | grep cudnn\n",
        "#pip install SentencePiece"
      ]
    },
    {
      "cell_type": "code",
      "execution_count": null,
      "metadata": {
        "tags": [],
        "id": "5IRliKYU5XKd"
      },
      "outputs": [],
      "source": [
        "import pandas as pd\n",
        "import transformers\n",
        "from tqdm import tqdm\n",
        "import torch\n",
        "import tensorflow as tf\n",
        "tqdm.pandas()\n",
        "from sklearn.preprocessing import OneHotEncoder\n",
        "import keras\n",
        "from tensorflow.keras import layers\n",
        "from tensorflow import keras\n",
        "from sklearn.preprocessing import StandardScaler\n",
        "from tensorflow.keras.layers import Conv2D, MaxPooling2D, Flatten, Dense, BatchNormalization, Dropout,GRU,RNN,Bidirectional, LSTM, Conv1D, MaxPooling1D, GlobalMaxPooling1D,Input\n",
        "from tensorflow.keras import Sequential\n",
        "from tensorflow.keras.initializers import LecunNormal\n",
        "from sklearn.decomposition import PCA\n",
        "import seaborn as sns\n",
        "import matplotlib.pyplot as plt\n",
        "from sklearn.metrics import f1_score"
      ]
    },
    {
      "cell_type": "code",
      "execution_count": null,
      "metadata": {
        "tags": [],
        "id": "8RWb1sIw5XKe",
        "outputId": "511b7380-bd48-403a-8a54-7d7162b89fcb"
      },
      "outputs": [
        {
          "name": "stderr",
          "output_type": "stream",
          "text": [
            "huggingface/tokenizers: The current process just got forked, after parallelism has already been used. Disabling parallelism to avoid deadlocks...\n",
            "To disable this warning, you can either:\n",
            "\t- Avoid using `tokenizers` before the fork if possible\n",
            "\t- Explicitly set the environment variable TOKENIZERS_PARALLELISM=(true | false)\n"
          ]
        },
        {
          "name": "stdout",
          "output_type": "stream",
          "text": [
            "tensorflow                               2.16.1\n",
            "tensorflow-cloud                         0.1.16\n",
            "tensorflow-datasets                      4.9.0\n",
            "tensorflow-estimator                     2.11.0\n",
            "tensorflow-hub                           0.16.1\n",
            "tensorflow-io                            0.29.0\n",
            "tensorflow-io-gcs-filesystem             0.29.0\n",
            "tensorflow-metadata                      0.14.0\n",
            "tensorflow-probability                   0.24.0\n",
            "tensorflow-serving-api                   2.11.0\n",
            "tensorflow-transform                     0.14.0\n",
            "Note: you may need to restart the kernel to use updated packages.\n"
          ]
        }
      ],
      "source": [
        "pip list | grep tensorflow"
      ]
    },
    {
      "cell_type": "code",
      "execution_count": null,
      "metadata": {
        "tags": [],
        "id": "fircNCyL5XKf"
      },
      "outputs": [],
      "source": [
        "from datasets import load_dataset\n",
        "dataset = load_dataset(\"papluca/language-identification\")"
      ]
    },
    {
      "cell_type": "code",
      "execution_count": null,
      "metadata": {
        "tags": [],
        "id": "o3SmNhU35XKf",
        "outputId": "77310ffe-d7b1-4bbb-dc91-497f3e24ea08"
      },
      "outputs": [
        {
          "data": {
            "text/plain": [
              "DatasetDict({\n",
              "    train: Dataset({\n",
              "        features: ['labels', 'text'],\n",
              "        num_rows: 70000\n",
              "    })\n",
              "    validation: Dataset({\n",
              "        features: ['labels', 'text'],\n",
              "        num_rows: 10000\n",
              "    })\n",
              "    test: Dataset({\n",
              "        features: ['labels', 'text'],\n",
              "        num_rows: 10000\n",
              "    })\n",
              "})"
            ]
          },
          "execution_count": 8,
          "metadata": {},
          "output_type": "execute_result"
        }
      ],
      "source": [
        "dataset"
      ]
    },
    {
      "cell_type": "code",
      "execution_count": null,
      "metadata": {
        "tags": [],
        "id": "0tWklKjm5XKg"
      },
      "outputs": [],
      "source": [
        "dfTrain= pd.DataFrame(dataset['train'])\n",
        "dfTest= pd.DataFrame(dataset['test'])\n",
        "dfVal= pd.DataFrame(dataset['validation'])"
      ]
    },
    {
      "cell_type": "code",
      "execution_count": null,
      "metadata": {
        "id": "y4CICkuw5XKg",
        "outputId": "9e88835f-0db2-43b3-bbda-c840b59e1f5f"
      },
      "outputs": [
        {
          "data": {
            "text/html": [
              "<div>\n",
              "<style scoped>\n",
              "    .dataframe tbody tr th:only-of-type {\n",
              "        vertical-align: middle;\n",
              "    }\n",
              "\n",
              "    .dataframe tbody tr th {\n",
              "        vertical-align: top;\n",
              "    }\n",
              "\n",
              "    .dataframe thead th {\n",
              "        text-align: right;\n",
              "    }\n",
              "</style>\n",
              "<table border=\"1\" class=\"dataframe\">\n",
              "  <thead>\n",
              "    <tr style=\"text-align: right;\">\n",
              "      <th></th>\n",
              "      <th>labels</th>\n",
              "      <th>text</th>\n",
              "    </tr>\n",
              "  </thead>\n",
              "  <tbody>\n",
              "    <tr>\n",
              "      <th>0</th>\n",
              "      <td>pt</td>\n",
              "      <td>os chefes de defesa da estónia, letónia, lituâ...</td>\n",
              "    </tr>\n",
              "    <tr>\n",
              "      <th>1</th>\n",
              "      <td>bg</td>\n",
              "      <td>размерът на хоризонталната мрежа може да бъде ...</td>\n",
              "    </tr>\n",
              "    <tr>\n",
              "      <th>2</th>\n",
              "      <td>zh</td>\n",
              "      <td>很好，以前从不去评价，不知道浪费了多少积分，现在知道积分可以换钱，就要好好评价了，后来我就把...</td>\n",
              "    </tr>\n",
              "    <tr>\n",
              "      <th>3</th>\n",
              "      <td>th</td>\n",
              "      <td>สำหรับ ของเก่า ที่ จริงจัง ลอง   honeychurch  ...</td>\n",
              "    </tr>\n",
              "    <tr>\n",
              "      <th>4</th>\n",
              "      <td>ru</td>\n",
              "      <td>Он увеличил давление .</td>\n",
              "    </tr>\n",
              "  </tbody>\n",
              "</table>\n",
              "</div>"
            ],
            "text/plain": [
              "  labels                                               text\n",
              "0     pt  os chefes de defesa da estónia, letónia, lituâ...\n",
              "1     bg  размерът на хоризонталната мрежа може да бъде ...\n",
              "2     zh  很好，以前从不去评价，不知道浪费了多少积分，现在知道积分可以换钱，就要好好评价了，后来我就把...\n",
              "3     th  สำหรับ ของเก่า ที่ จริงจัง ลอง   honeychurch  ...\n",
              "4     ru                             Он увеличил давление ."
            ]
          },
          "execution_count": 28,
          "metadata": {},
          "output_type": "execute_result"
        }
      ],
      "source": [
        "dfTrain.head()"
      ]
    },
    {
      "cell_type": "code",
      "execution_count": null,
      "metadata": {
        "tags": [],
        "id": "rv43am7P5XKg",
        "outputId": "23405587-642d-43e5-fdca-5f4d9c8c6647"
      },
      "outputs": [
        {
          "data": {
            "text/plain": [
              "'os chefes de defesa da estónia, letónia, lituânia, alemanha, itália, espanha e eslováquia assinarão o acordo para fornecer pessoal e financiamento para o centro.'"
            ]
          },
          "execution_count": 8,
          "metadata": {},
          "output_type": "execute_result"
        }
      ],
      "source": [
        "dfTrain['text'][0]"
      ]
    },
    {
      "cell_type": "code",
      "execution_count": null,
      "metadata": {
        "tags": [],
        "id": "I8jHNoDj5XKg",
        "outputId": "a7519a05-77fb-42b3-e1a7-8adfae57494c"
      },
      "outputs": [
        {
          "data": {
            "text/plain": [
              "<Axes: xlabel='labels'>"
            ]
          },
          "execution_count": 26,
          "metadata": {},
          "output_type": "execute_result"
        },
        {
          "data": {
            "image/png": "[encoded data removed]",
            "text/plain": [
              "<Figure size 640x480 with 1 Axes>"
            ]
          },
          "metadata": {},
          "output_type": "display_data"
        }
      ],
      "source": [
        "import seaborn as sns\n",
        "sns.set()\n",
        "sns.barplot(dfTrain['labels'].value_counts().to_frame().T, color='grey')"
      ]
    },
    {
      "cell_type": "code",
      "execution_count": null,
      "metadata": {
        "tags": [],
        "id": "GpTp7QkA5XKg",
        "outputId": "cffd65c0-5405-49aa-f0ff-9b57bef6e951"
      },
      "outputs": [
        {
          "name": "stdout",
          "output_type": "stream",
          "text": [
            "zsh:1: command not found: nvidia-smi\n"
          ]
        }
      ],
      "source": [
        "!nvidia-smi"
      ]
    },
    {
      "cell_type": "code",
      "execution_count": null,
      "metadata": {
        "id": "bQ_HuA5g5XKg"
      },
      "outputs": [],
      "source": [
        "from transformers import XLMRobertaTokenizer, XLMRobertaModel\n",
        "tokenizer = XLMRobertaTokenizer.from_pretrained('xlm-roberta-base')\n",
        "model = XLMRobertaModel.from_pretrained(\"xlm-roberta-base\")\n",
        "tokenizer.pad_token = tokenizer.eos_token"
      ]
    },
    {
      "cell_type": "code",
      "execution_count": null,
      "metadata": {
        "tags": [],
        "id": "rW6lKGRC5XKh",
        "outputId": "47734335-8417-4ada-e4b1-eca369bf2768"
      },
      "outputs": [
        {
          "name": "stderr",
          "output_type": "stream",
          "text": [
            "100%|██████████| 70000/70000 [00:18<00:00, 3800.09it/s]\n"
          ]
        }
      ],
      "source": [
        "dfTrain['text']= dfTrain['text'].progress_apply(lambda x: tokenizer(x,padding=True, return_tensors='pt',truncation = True))"
      ]
    },
    {
      "cell_type": "code",
      "execution_count": null,
      "metadata": {
        "tags": [],
        "id": "g2VuJ8pR5XKh",
        "outputId": "74db5e49-90d1-4c02-c4bb-c25174072912"
      },
      "outputs": [
        {
          "name": "stderr",
          "output_type": "stream",
          "text": [
            "100%|██████████| 10000/10000 [00:02<00:00, 3903.73it/s]\n"
          ]
        }
      ],
      "source": [
        "dfVal['text']= dfVal['text'].progress_apply(lambda x: tokenizer(x,padding=True,truncation=True, return_tensors='pt'))"
      ]
    },
    {
      "cell_type": "code",
      "execution_count": null,
      "metadata": {
        "tags": [],
        "id": "w_Rte-a15XKh",
        "outputId": "a2f31894-b808-4c2b-ff91-9117104d8881"
      },
      "outputs": [
        {
          "name": "stderr",
          "output_type": "stream",
          "text": [
            "100%|██████████| 10000/10000 [00:03<00:00, 3216.50it/s]\n"
          ]
        }
      ],
      "source": [
        "dfTest['text']= dfTest['text'].progress_apply(lambda x: tokenizer(x,padding=True,truncation=True, return_tensors='pt'))\n"
      ]
    },
    {
      "cell_type": "code",
      "execution_count": null,
      "metadata": {
        "tags": [],
        "id": "mS979mXL5XKh"
      },
      "outputs": [],
      "source": [
        "def embed(t):\n",
        "    t= {key: value.to('cuda') for key, value in t.items()}\n",
        "    with torch.no_grad():\n",
        "        outputs = model(**t)\n",
        "        last_hidden_state = outputs.last_hidden_state\n",
        "        cls_embeddings = last_hidden_state[:, 0,]\n",
        "    return cls_embeddings"
      ]
    },
    {
      "cell_type": "code",
      "execution_count": null,
      "metadata": {
        "tags": [],
        "id": "DEognAk15XKh",
        "outputId": "ebb47b18-71f6-40cf-a6e0-edf1456fe0dd"
      },
      "outputs": [
        {
          "name": "stderr",
          "output_type": "stream",
          "text": [
            "100%|██████████| 70000/70000 [10:48<00:00, 107.90it/s]\n"
          ]
        }
      ],
      "source": [
        "dfTrain['embed']= dfTrain['text'].progress_apply(lambda x: embed(x))"
      ]
    },
    {
      "cell_type": "code",
      "execution_count": null,
      "metadata": {
        "tags": [],
        "id": "ukJfBojx5XKh",
        "outputId": "0ec2ac57-bb27-4f76-e8e8-7812d19a88e7"
      },
      "outputs": [
        {
          "name": "stderr",
          "output_type": "stream",
          "text": [
            "100%|██████████| 10000/10000 [01:29<00:00, 112.03it/s]\n"
          ]
        }
      ],
      "source": [
        "dfTest['embed']= dfTest['text'].progress_apply(lambda x: embed(x))"
      ]
    },
    {
      "cell_type": "code",
      "execution_count": null,
      "metadata": {
        "tags": [],
        "id": "KITROBPQ5XKh",
        "outputId": "aab16e21-b225-4e51-9102-c8b732b7b519"
      },
      "outputs": [
        {
          "name": "stderr",
          "output_type": "stream",
          "text": [
            "100%|██████████| 10000/10000 [01:29<00:00, 111.84it/s]\n"
          ]
        }
      ],
      "source": [
        "dfVal['embed']= dfVal['text'].progress_apply(lambda x: embed(x))"
      ]
    },
    {
      "cell_type": "code",
      "execution_count": null,
      "metadata": {
        "tags": [],
        "id": "rTCVpV_45XKh",
        "outputId": "3eac4810-19a6-4812-f414-881fbd641fdf"
      },
      "outputs": [
        {
          "data": {
            "text/plain": [
              "labels                                                   ar\n",
              "text      منحدر يواجه العديد من النقاشات المتجهه إزاء ال...\n",
              "Name: 4, dtype: object"
            ]
          },
          "execution_count": 329,
          "metadata": {},
          "output_type": "execute_result"
        }
      ],
      "source": [
        "dfTest.iloc[4,:]"
      ]
    },
    {
      "cell_type": "code",
      "execution_count": null,
      "metadata": {
        "tags": [],
        "id": "dmhPFOuG5XKh",
        "outputId": "45875038-cb42-4ab7-9aed-dfc6cff181fe"
      },
      "outputs": [
        {
          "name": "stdout",
          "output_type": "stream",
          "text": [
            "Sat May 18 23:56:07 2024       \n",
            "+---------------------------------------------------------------------------------------+\n",
            "| NVIDIA-SMI 535.104.05             Driver Version: 535.104.05   CUDA Version: 12.2     |\n",
            "|-----------------------------------------+----------------------+----------------------+\n",
            "| GPU  Name                 Persistence-M | Bus-Id        Disp.A | Volatile Uncorr. ECC |\n",
            "| Fan  Temp   Perf          Pwr:Usage/Cap |         Memory-Usage | GPU-Util  Compute M. |\n",
            "|                                         |                      |               MIG M. |\n",
            "|=========================================+======================+======================|\n",
            "|   0  Tesla T4                       On  | 00000000:00:04.0 Off |                    0 |\n",
            "| N/A   76C    P0              40W /  70W |   1384MiB / 15360MiB |      8%      Default |\n",
            "|                                         |                      |                  N/A |\n",
            "+-----------------------------------------+----------------------+----------------------+\n",
            "                                                                                         \n",
            "+---------------------------------------------------------------------------------------+\n",
            "| Processes:                                                                            |\n",
            "|  GPU   GI   CI        PID   Type   Process name                            GPU Memory |\n",
            "|        ID   ID                                                             Usage      |\n",
            "|=======================================================================================|\n",
            "|    0   N/A  N/A       600      C   /usr/local/bin/ollama                       100MiB |\n",
            "|    0   N/A  N/A     35738      C   /opt/conda/bin/python                      1280MiB |\n",
            "+---------------------------------------------------------------------------------------+\n"
          ]
        }
      ],
      "source": [
        "!nvidia-smi"
      ]
    }
  ],
  "metadata": {
    "environment": {
      "kernel": "python3",
      "name": "tf2-cpu.2-11.m119",
      "type": "gcloud",
      "uri": "us-docker.pkg.dev/deeplearning-platform-release/gcr.io/tf2-cpu.2-11:m119"
    },
    "kernelspec": {
      "display_name": "Python 3",
      "language": "python",
      "name": "python3"
    },
    "language_info": {
      "codemirror_mode": {
        "name": "ipython",
        "version": 3
      },
      "file_extension": ".py",
      "mimetype": "text/x-python",
      "name": "python",
      "nbconvert_exporter": "python",
      "pygments_lexer": "ipython3",
      "version": "3.11.7"
    },
    "vscode": {
      "interpreter": {
        "hash": "40d3a090f54c6569ab1632332b64b2c03c39dcf918b08424e98f38b5ae0af88f"
      }
    },
    "colab": {
      "provenance": []
    }
  },
  "nbformat": 4,
  "nbformat_minor": 0
}